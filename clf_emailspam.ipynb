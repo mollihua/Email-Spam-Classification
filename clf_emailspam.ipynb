{
 "cells": [
  {
   "cell_type": "markdown",
   "metadata": {},
   "source": [
    "Email spam classification\n",
    "\n",
    "\n",
    "Data source: https://www.kaggle.com/veleon/ham-and-spam-dataset\n",
    "\n",
    "\n",
    "Use the words in subject to distinguish spam vs. ham emails. \n",
    "\n",
    "\n",
    "Inspirations:\n",
    "- What kind of words do spam emails use?\n",
    "- Are all links in emails bad?\n",
    "- Can you classify spam by reading only the subjects of an email?"
   ]
  },
  {
   "cell_type": "code",
   "execution_count": 45,
   "metadata": {},
   "outputs": [
    {
     "name": "stdout",
     "output_type": "stream",
     "text": [
      "The autoreload extension is already loaded. To reload it, use:\n",
      "  %reload_ext autoreload\n"
     ]
    }
   ],
   "source": [
    "import os\n",
    "import pandas as pd\n",
    "import numpy as np\n",
    "import seaborn as sns\n",
    "import email\n",
    "from email.message import EmailMessage\n",
    "import itertools\n",
    "from collections import Counter\n",
    "from sklearn.utils import shuffle\n",
    "from sklearn.svm import SVC\n",
    "\n",
    "%load_ext autoreload\n",
    "%autoreload 2\n",
    "\n",
    "pd.set_option('display.max_columns', 500)\n",
    "pd.set_option('display.width', 1000)"
   ]
  },
  {
   "cell_type": "code",
   "execution_count": 46,
   "metadata": {},
   "outputs": [],
   "source": [
    "fnames_spam = os.listdir(\"./hamnspam_dataset/spam\")\n",
    "fnames_ham = os.listdir(\"./hamnspam_dataset/ham\")\n",
    "\n",
    "wdir_spam = os.path.abspath(\"./hamnspam_dataset/spam\")\n",
    "wdir_ham = os.path.abspath(\"./hamnspam_dataset/ham\")"
   ]
  },
  {
   "cell_type": "code",
   "execution_count": 47,
   "metadata": {},
   "outputs": [
    {
     "name": "stdout",
     "output_type": "stream",
     "text": [
      "The number of spam files:  502\n",
      "The number of ham files:  2551\n"
     ]
    }
   ],
   "source": [
    "print(\"The number of spam files: \", len(fnames_spam))\n",
    "print(\"The number of ham files: \", len(fnames_ham))"
   ]
  },
  {
   "cell_type": "code",
   "execution_count": 48,
   "metadata": {
    "scrolled": false
   },
   "outputs": [],
   "source": [
    "# def a function to clean up one subject line\n",
    "def cleanup (line):\n",
    "\n",
    "    line2 = line.replace(',', ' xcomma ').replace('-', ' xhyphen ' )\\\n",
    "                .replace('_', ' xunderscore ').replace('!', ' xclaim ')\\\n",
    "                .replace('{', ' xlbrace ').replace('}' , ' xrbrace ')\\\n",
    "                .replace('[', ' xlsquareb ').replace(']', ' xrsquareb ')\\\n",
    "                .replace('(', ' xlbracket ').replace(')', ' xrbracket ')\\\n",
    "                .replace('.', ' xdot ').replace('&', ' xampersand ')\\\n",
    "                .replace('#', ' xhash ').replace('?', ' xquestionm ')\\\n",
    "                .replace('+', ' xplus ').replace('/', ' xslash ')\\\n",
    "                .replace('|', ' xpipe ').replace('\"', ' xquote ')\\\n",
    "                .replace('=', ' xequal ').replace('*', ' xasterisk ')\\\n",
    "                .replace(':', ' xcomma ').replace(\"'ve \", \" have \")\\\n",
    "                .replace(\"'t \", \" not \").replace(\"'re \", \" are \")\n",
    "    \n",
    "    elems = line2.split()\n",
    "    del elems[:2]\n",
    "    \n",
    "    output_elems = []\n",
    "    \n",
    "    for elem in elems:\n",
    "        if elem.endswith(\"'s\"):\n",
    "            elem2 = elem[:-2]\n",
    "        else:\n",
    "            elem2 = elem\n",
    "        \n",
    "        # other cleaning\n",
    "        elem_lc = elem2.lower()\n",
    "        if elem_lc == '':\n",
    "            elem_cln = 'xsign'\n",
    "        elif \"$\" in elem_lc:\n",
    "            elem_cln = 'xdollar'\n",
    "        elif (\".com\" in elem_lc) or (\"http:/\" in elem_lc) or (\".org\" in elem_lc):\n",
    "            elem_cln = 'xdotcom'\n",
    "        elif \"%\" in elem_lc:\n",
    "            elem_cln = 'xpercent'\n",
    "        elif \"lb \" in elem_lc:\n",
    "            elem_cln = 'xweight '\n",
    "        elif elem_lc.replace('.','',1).isdigit():\n",
    "            elem_cln = 'xdigit'\n",
    "        elif elem_lc.isalpha():\n",
    "            elem_cln = elem_lc \n",
    "        else:\n",
    "            elem_cln = \"xexotic\"\n",
    "        \n",
    "        output_elems.append(elem_cln)\n",
    "        \n",
    "#         if elem_cln.isalpha() == False:\n",
    "#             print(elem, elem_cln)\n",
    "    \n",
    "    return output_elems\n"
   ]
  },
  {
   "cell_type": "code",
   "execution_count": 52,
   "metadata": {},
   "outputs": [
    {
     "data": {
      "text/html": [
       "<div>\n",
       "<style scoped>\n",
       "    .dataframe tbody tr th:only-of-type {\n",
       "        vertical-align: middle;\n",
       "    }\n",
       "\n",
       "    .dataframe tbody tr th {\n",
       "        vertical-align: top;\n",
       "    }\n",
       "\n",
       "    .dataframe thead th {\n",
       "        text-align: right;\n",
       "    }\n",
       "</style>\n",
       "<table border=\"1\" class=\"dataframe\">\n",
       "  <thead>\n",
       "    <tr style=\"text-align: right;\">\n",
       "      <th></th>\n",
       "      <th>subject</th>\n",
       "      <th>spam</th>\n",
       "    </tr>\n",
       "  </thead>\n",
       "  <tbody>\n",
       "    <tr>\n",
       "      <td>0</td>\n",
       "      <td>[friend, xcomma, copy, any, dvd, or, playstati...</td>\n",
       "      <td>1</td>\n",
       "    </tr>\n",
       "    <tr>\n",
       "      <td>1</td>\n",
       "      <td>[xpercent, guaranteed, for, eight, years]</td>\n",
       "      <td>1</td>\n",
       "    </tr>\n",
       "    <tr>\n",
       "      <td>2</td>\n",
       "      <td>[congratulations, xclaim, you, get, a, free, h...</td>\n",
       "      <td>1</td>\n",
       "    </tr>\n",
       "  </tbody>\n",
       "</table>\n",
       "</div>"
      ],
      "text/plain": [
       "                                             subject  spam\n",
       "0  [friend, xcomma, copy, any, dvd, or, playstati...     1\n",
       "1          [xpercent, guaranteed, for, eight, years]     1\n",
       "2  [congratulations, xclaim, you, get, a, free, h...     1"
      ]
     },
     "execution_count": 52,
     "metadata": {},
     "output_type": "execute_result"
    }
   ],
   "source": [
    "# file parsing\n",
    "data_spam = []\n",
    "\n",
    "for i, fname in enumerate(fnames_spam): \n",
    "    textfile = os.path.join(wdir_spam, fname)\n",
    "\n",
    "    with open(textfile, 'r', errors='ignore') as f:\n",
    "        for line in f.readlines():\n",
    "            if line.startswith('Subject:'):\n",
    "                elem_cl = cleanup(line)\n",
    "                data_spam.append([elem_cl])\n",
    "                \n",
    "                \n",
    "# convert data_spam into pandas DataFrame\n",
    "df_spam = pd.DataFrame(data=data_spam, columns=['subject'])\n",
    "df_spam['spam'] = 1\n",
    "df_spam.to_csv(\"df_spam.csv\")\n",
    "df_spam.head(3)"
   ]
  },
  {
   "cell_type": "code",
   "execution_count": 50,
   "metadata": {},
   "outputs": [
    {
     "data": {
      "text/plain": [
       "[('xdot', 297),\n",
       " ('xdigit', 211),\n",
       " ('xclaim', 182),\n",
       " ('xcomma', 167),\n",
       " ('xhyphen', 130),\n",
       " ('xexotic', 130),\n",
       " ('xequal', 106),\n",
       " ('xquestionm', 100),\n",
       " ('your', 74),\n",
       " ('xlsquareb', 59)]"
      ]
     },
     "execution_count": 50,
     "metadata": {},
     "output_type": "execute_result"
    }
   ],
   "source": [
    "spam_words = list(itertools.chain(*df_spam['subject']))\n",
    "Counter(spam_words).most_common(10)"
   ]
  },
  {
   "cell_type": "code",
   "execution_count": 53,
   "metadata": {},
   "outputs": [
    {
     "data": {
      "text/html": [
       "<div>\n",
       "<style scoped>\n",
       "    .dataframe tbody tr th:only-of-type {\n",
       "        vertical-align: middle;\n",
       "    }\n",
       "\n",
       "    .dataframe tbody tr th {\n",
       "        vertical-align: top;\n",
       "    }\n",
       "\n",
       "    .dataframe thead th {\n",
       "        text-align: right;\n",
       "    }\n",
       "</style>\n",
       "<table border=\"1\" class=\"dataframe\">\n",
       "  <thead>\n",
       "    <tr style=\"text-align: right;\">\n",
       "      <th></th>\n",
       "      <th>subject</th>\n",
       "      <th>spam</th>\n",
       "    </tr>\n",
       "  </thead>\n",
       "  <tbody>\n",
       "    <tr>\n",
       "      <td>0</td>\n",
       "      <td>[priceless, rubens, works, stolen, in, raid, o...</td>\n",
       "      <td>0</td>\n",
       "    </tr>\n",
       "    <tr>\n",
       "      <td>1</td>\n",
       "      <td>[making, a, mesh, on, the, move]</td>\n",
       "      <td>0</td>\n",
       "    </tr>\n",
       "    <tr>\n",
       "      <td>2</td>\n",
       "      <td>[re, xcomma, sorting]</td>\n",
       "      <td>0</td>\n",
       "    </tr>\n",
       "    <tr>\n",
       "      <td>3</td>\n",
       "      <td>[re, xcomma, java, is, for, kiddies]</td>\n",
       "      <td>0</td>\n",
       "    </tr>\n",
       "    <tr>\n",
       "      <td>4</td>\n",
       "      <td>[skateboarder, drives, xhyphen, through, subwa...</td>\n",
       "      <td>0</td>\n",
       "    </tr>\n",
       "  </tbody>\n",
       "</table>\n",
       "</div>"
      ],
      "text/plain": [
       "                                             subject  spam\n",
       "0  [priceless, rubens, works, stolen, in, raid, o...     0\n",
       "1                   [making, a, mesh, on, the, move]     0\n",
       "2                              [re, xcomma, sorting]     0\n",
       "3               [re, xcomma, java, is, for, kiddies]     0\n",
       "4  [skateboarder, drives, xhyphen, through, subwa...     0"
      ]
     },
     "execution_count": 53,
     "metadata": {},
     "output_type": "execute_result"
    }
   ],
   "source": [
    "data_ham = []\n",
    "\n",
    "for i, fname in enumerate(fnames_ham): \n",
    "    textfile = os.path.join(wdir_ham, fname)\n",
    "\n",
    "    with open(textfile, 'r', errors='ignore') as f:\n",
    "        for line in f.readlines():\n",
    "            if line.startswith('Subject:'):\n",
    "                elem_cl = cleanup(line)\n",
    "                data_ham.append([elem_cl])\n",
    "                \n",
    "                \n",
    "# convert data_spam into pandas DataFrame\n",
    "df_ham = pd.DataFrame(data=data_ham, columns=['subject'])\n",
    "df_ham['spam'] = 0\n",
    "df_ham.to_csv(\"df_ham.csv\")\n",
    "df_ham.head(5)"
   ]
  },
  {
   "cell_type": "code",
   "execution_count": 54,
   "metadata": {},
   "outputs": [
    {
     "data": {
      "text/plain": [
       "[('xcomma', 1924),\n",
       " ('re', 1455),\n",
       " ('xdot', 1180),\n",
       " ('xlsquareb', 877),\n",
       " ('xrsquareb', 877),\n",
       " ('xdigit', 753),\n",
       " ('xhyphen', 570),\n",
       " ('the', 389),\n",
       " ('for', 297),\n",
       " ('xslash', 264)]"
      ]
     },
     "execution_count": 54,
     "metadata": {},
     "output_type": "execute_result"
    }
   ],
   "source": [
    "ham_words = list(itertools.chain(*df_ham['subject']))\n",
    "Counter(ham_words).most_common(10)"
   ]
  },
  {
   "cell_type": "code",
   "execution_count": 33,
   "metadata": {},
   "outputs": [
    {
     "data": {
      "text/plain": [
       "['xdot', 'xdigit', 'xclaim', 'xcomma', 'xhyphen']"
      ]
     },
     "execution_count": 33,
     "metadata": {},
     "output_type": "execute_result"
    }
   ],
   "source": [
    "# use the top 300 most common words in spam emails to create a vector\n",
    "\n",
    "numofwords = 100\n",
    "\n",
    "spam_words_tuple = Counter(spam_words).most_common(numofwords)\n",
    "spam_words_list = [x[0] for x in spam_words_tuple]\n",
    "spam_words_list[0:5]"
   ]
  },
  {
   "cell_type": "code",
   "execution_count": 34,
   "metadata": {},
   "outputs": [
    {
     "data": {
      "text/plain": [
       "['xcomma', 're', 'xdot', 'xlsquareb', 'xrsquareb']"
      ]
     },
     "execution_count": 34,
     "metadata": {},
     "output_type": "execute_result"
    }
   ],
   "source": [
    "ham_words_tuple = Counter(ham_words).most_common(numofwords)\n",
    "ham_words_list = [x[0] for x in ham_words_tuple]\n",
    "ham_words_list[0:5]"
   ]
  },
  {
   "cell_type": "code",
   "execution_count": 56,
   "metadata": {},
   "outputs": [
    {
     "data": {
      "text/plain": [
       "{'a',\n",
       " 'and',\n",
       " 'are',\n",
       " 'at',\n",
       " 'for',\n",
       " 'from',\n",
       " 'get',\n",
       " 'ilug',\n",
       " 'in',\n",
       " 'is',\n",
       " 'new',\n",
       " 'no',\n",
       " 'not',\n",
       " 'of',\n",
       " 'on',\n",
       " 're',\n",
       " 'the',\n",
       " 'to',\n",
       " 'with',\n",
       " 'xampersand',\n",
       " 'xclaim',\n",
       " 'xcomma',\n",
       " 'xdigit',\n",
       " 'xdot',\n",
       " 'xexotic',\n",
       " 'xhyphen',\n",
       " 'xlbracket',\n",
       " 'xlsquareb',\n",
       " 'xquestionm',\n",
       " 'xquote',\n",
       " 'xrbracket',\n",
       " 'xrsquareb',\n",
       " 'xslash',\n",
       " 'xunderscore',\n",
       " 'you'}"
      ]
     },
     "execution_count": 56,
     "metadata": {},
     "output_type": "execute_result"
    }
   ],
   "source": [
    "# check the intersecting words in spam and ham emails\n",
    "words_intersect = (set(spam_words_list)).intersection(set(ham_words_list))\n",
    "words_intersect"
   ]
  },
  {
   "cell_type": "code",
   "execution_count": 35,
   "metadata": {},
   "outputs": [],
   "source": [
    "# create a dictionary using the spam words as features\n",
    "\n",
    "words_dict = {}\n",
    "for i, w in enumerate(spam_words_list):\n",
    "    words_dict[w] = i"
   ]
  },
  {
   "cell_type": "code",
   "execution_count": 36,
   "metadata": {},
   "outputs": [],
   "source": [
    "# convert subject words in one email into a vector\n",
    "\n",
    "def words_to_vector( input_list ):\n",
    "    vec = np.zeros((1, numofwords))\n",
    "    for word in input_list:\n",
    "        if word in words_dict.keys():\n",
    "            wordid = words_dict[word]\n",
    "            vec[0, wordid] = 1\n",
    "    \n",
    "    return vec"
   ]
  },
  {
   "cell_type": "code",
   "execution_count": 37,
   "metadata": {},
   "outputs": [
    {
     "data": {
      "text/plain": [
       "array([[1., 0., 0., 1., 0., 0., 0., 0., 0., 0., 0., 0., 0., 0., 0., 0.,\n",
       "        0., 0., 0., 0., 0., 0., 0., 0., 0., 0., 0., 0., 0., 1., 0., 0.,\n",
       "        0., 0., 0., 0., 0., 0., 0., 0., 0., 0., 0., 0., 0., 0., 0., 0.,\n",
       "        0., 0., 0., 0., 0., 0., 0., 0., 0., 0., 0., 0., 0., 0., 0., 0.,\n",
       "        0., 0., 0., 0., 1., 0., 0., 0., 0., 0., 0., 0., 0., 0., 0., 0.,\n",
       "        0., 0., 0., 0., 0., 1., 0., 0., 0., 0., 0., 0., 0., 0., 0., 0.,\n",
       "        0., 0., 0., 0.]])"
      ]
     },
     "execution_count": 37,
     "metadata": {},
     "output_type": "execute_result"
    }
   ],
   "source": [
    "# create a column \"code\" to dataTables\n",
    "df_spam['code'] = df_spam['subject'].apply(words_to_vector)\n",
    "\n",
    "df_spam['code'][0]"
   ]
  },
  {
   "cell_type": "code",
   "execution_count": 38,
   "metadata": {},
   "outputs": [
    {
     "data": {
      "text/plain": [
       "array([[0., 0., 0., 0., 0., 0., 0., 0., 0., 0., 0., 0., 0., 0., 0., 0.,\n",
       "        0., 0., 0., 0., 0., 0., 0., 0., 1., 1., 0., 0., 0., 0., 0., 0.,\n",
       "        0., 0., 0., 0., 0., 0., 0., 0., 0., 0., 0., 0., 0., 0., 0., 0.,\n",
       "        0., 0., 0., 0., 0., 0., 0., 0., 0., 0., 0., 0., 0., 0., 0., 0.,\n",
       "        0., 0., 0., 0., 0., 0., 0., 0., 0., 0., 0., 0., 0., 0., 0., 0.,\n",
       "        0., 0., 0., 0., 0., 0., 0., 0., 0., 0., 0., 0., 0., 0., 0., 0.,\n",
       "        0., 0., 0., 0.]])"
      ]
     },
     "execution_count": 38,
     "metadata": {},
     "output_type": "execute_result"
    }
   ],
   "source": [
    "df_ham['code'] = df_ham['subject'].apply(words_to_vector)\n",
    "\n",
    "df_ham['code'][0]"
   ]
  },
  {
   "cell_type": "code",
   "execution_count": 39,
   "metadata": {},
   "outputs": [
    {
     "name": "stdout",
     "output_type": "stream",
     "text": [
      "(3154, 3)\n"
     ]
    },
    {
     "data": {
      "text/html": [
       "<div>\n",
       "<style scoped>\n",
       "    .dataframe tbody tr th:only-of-type {\n",
       "        vertical-align: middle;\n",
       "    }\n",
       "\n",
       "    .dataframe tbody tr th {\n",
       "        vertical-align: top;\n",
       "    }\n",
       "\n",
       "    .dataframe thead th {\n",
       "        text-align: right;\n",
       "    }\n",
       "</style>\n",
       "<table border=\"1\" class=\"dataframe\">\n",
       "  <thead>\n",
       "    <tr style=\"text-align: right;\">\n",
       "      <th></th>\n",
       "      <th>subject</th>\n",
       "      <th>spam</th>\n",
       "      <th>code</th>\n",
       "    </tr>\n",
       "  </thead>\n",
       "  <tbody>\n",
       "    <tr>\n",
       "      <td>1534</td>\n",
       "      <td>[xlsquareb, zzzzteana, xrsquareb, betamax, fin...</td>\n",
       "      <td>0</td>\n",
       "      <td>[[0.0, 0.0, 0.0, 0.0, 0.0, 0.0, 0.0, 0.0, 0.0,...</td>\n",
       "    </tr>\n",
       "    <tr>\n",
       "      <td>2357</td>\n",
       "      <td>[xlsquareb, satalk, xrsquareb, xlsquareb, ot, ...</td>\n",
       "      <td>0</td>\n",
       "      <td>[[1.0, 0.0, 0.0, 0.0, 0.0, 0.0, 0.0, 0.0, 0.0,...</td>\n",
       "    </tr>\n",
       "    <tr>\n",
       "      <td>1994</td>\n",
       "      <td>[forged, documents, xcomma, public, drinking, ...</td>\n",
       "      <td>0</td>\n",
       "      <td>[[1.0, 0.0, 0.0, 1.0, 0.0, 0.0, 0.0, 0.0, 0.0,...</td>\n",
       "    </tr>\n",
       "  </tbody>\n",
       "</table>\n",
       "</div>"
      ],
      "text/plain": [
       "                                                subject  spam                                               code\n",
       "1534  [xlsquareb, zzzzteana, xrsquareb, betamax, fin...     0  [[0.0, 0.0, 0.0, 0.0, 0.0, 0.0, 0.0, 0.0, 0.0,...\n",
       "2357  [xlsquareb, satalk, xrsquareb, xlsquareb, ot, ...     0  [[1.0, 0.0, 0.0, 0.0, 0.0, 0.0, 0.0, 0.0, 0.0,...\n",
       "1994  [forged, documents, xcomma, public, drinking, ...     0  [[1.0, 0.0, 0.0, 1.0, 0.0, 0.0, 0.0, 0.0, 0.0,..."
      ]
     },
     "execution_count": 39,
     "metadata": {},
     "output_type": "execute_result"
    }
   ],
   "source": [
    "# divide dataset into train and test randomly\n",
    "\n",
    "frames = [df_spam, df_ham]\n",
    "df_all = pd.concat(frames)\n",
    "\n",
    "df_all_rnd = shuffle(df_all, random_state=9)  \n",
    "print(df_all_rnd.shape)\n",
    "df_all_rnd.head(3)"
   ]
  },
  {
   "cell_type": "code",
   "execution_count": 40,
   "metadata": {},
   "outputs": [],
   "source": [
    "numtrain = int(df_all_rnd.shape[0]*0.7)\n",
    "\n",
    "X = np.array(df_all_rnd['code'][:numtrain])\n",
    "y = np.array(df_all_rnd['spam'][:numtrain])\n",
    "X2 = np.stack(X)\n",
    "X3 = np.squeeze(X2, axis=1)\n",
    "\n",
    "Xtest = df_all_rnd['code'][numtrain:]\n",
    "Xtest2 = np.stack(Xtest)\n",
    "Xtest3 = np.squeeze(Xtest2, axis=1)\n",
    "ytest = df_all_rnd['spam'][numtrain:]"
   ]
  },
  {
   "cell_type": "code",
   "execution_count": 41,
   "metadata": {},
   "outputs": [
    {
     "data": {
      "text/plain": [
       "array([[0., 0., 0., ..., 0., 0., 0.],\n",
       "       [1., 0., 0., ..., 0., 0., 0.],\n",
       "       [1., 0., 0., ..., 0., 0., 0.],\n",
       "       ...,\n",
       "       [0., 0., 0., ..., 0., 0., 0.],\n",
       "       [1., 0., 0., ..., 0., 0., 0.],\n",
       "       [0., 0., 0., ..., 0., 0., 0.]])"
      ]
     },
     "execution_count": 41,
     "metadata": {},
     "output_type": "execute_result"
    }
   ],
   "source": [
    "X3"
   ]
  },
  {
   "cell_type": "code",
   "execution_count": 42,
   "metadata": {},
   "outputs": [
    {
     "data": {
      "text/plain": [
       "SVC(C=1.0, cache_size=200, class_weight=None, coef0=0.0,\n",
       "    decision_function_shape='ovr', degree=3, gamma='auto', kernel='rbf',\n",
       "    max_iter=-1, probability=False, random_state=None, shrinking=True,\n",
       "    tol=0.001, verbose=False)"
      ]
     },
     "execution_count": 42,
     "metadata": {},
     "output_type": "execute_result"
    }
   ],
   "source": [
    "# build svm model using sklearn\n",
    "\n",
    "clf = SVC(gamma='auto')\n",
    "clf.fit(X3, y) "
   ]
  },
  {
   "cell_type": "code",
   "execution_count": 43,
   "metadata": {},
   "outputs": [
    {
     "data": {
      "text/plain": [
       "0.8799275033982782"
      ]
     },
     "execution_count": 43,
     "metadata": {},
     "output_type": "execute_result"
    }
   ],
   "source": [
    "clf.score(X3, y)"
   ]
  },
  {
   "cell_type": "code",
   "execution_count": 44,
   "metadata": {},
   "outputs": [
    {
     "data": {
      "text/plain": [
       "0.8796198521647307"
      ]
     },
     "execution_count": 44,
     "metadata": {},
     "output_type": "execute_result"
    }
   ],
   "source": [
    "clf.score(Xtest3, ytest)"
   ]
  },
  {
   "cell_type": "code",
   "execution_count": null,
   "metadata": {},
   "outputs": [],
   "source": []
  }
 ],
 "metadata": {
  "kernelspec": {
   "display_name": "Python 3",
   "language": "python",
   "name": "python3"
  },
  "language_info": {
   "codemirror_mode": {
    "name": "ipython",
    "version": 3
   },
   "file_extension": ".py",
   "mimetype": "text/x-python",
   "name": "python",
   "nbconvert_exporter": "python",
   "pygments_lexer": "ipython3",
   "version": "3.7.4"
  }
 },
 "nbformat": 4,
 "nbformat_minor": 2
}
